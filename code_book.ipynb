{
 "cells": [
  {
   "cell_type": "markdown",
   "metadata": {},
   "source": [
    "# Data upload + API"
   ]
  },
  {
   "cell_type": "code",
   "execution_count": 1,
   "metadata": {},
   "outputs": [],
   "source": [
    "from langchain.document_loaders import PyPDFLoader\n",
    "\n",
    "loader = PyPDFLoader(\"literature/book.pdf\")\n",
    "pages = loader.load_and_split()"
   ]
  },
  {
   "cell_type": "code",
   "execution_count": 2,
   "metadata": {},
   "outputs": [],
   "source": [
    "sources = pages"
   ]
  },
  {
   "cell_type": "code",
   "execution_count": 21,
   "metadata": {},
   "outputs": [],
   "source": [
    "#print(pages[10])"
   ]
  },
  {
   "cell_type": "code",
   "execution_count": 3,
   "metadata": {},
   "outputs": [
    {
     "data": {
      "text/plain": [
       "True"
      ]
     },
     "execution_count": 3,
     "metadata": {},
     "output_type": "execute_result"
    }
   ],
   "source": [
    "from dotenv import load_dotenv\n",
    "load_dotenv()"
   ]
  },
  {
   "cell_type": "code",
   "execution_count": 19,
   "metadata": {},
   "outputs": [],
   "source": [
    "from langchain.embeddings.openai import OpenAIEmbeddings\n",
    "from langchain.vectorstores import Chroma\n",
    "from langchain.text_splitter import CharacterTextSplitter\n",
    "from langchain.docstore.document import Document\n",
    "from langchain.chains import RetrievalQA\n",
    "from langchain.chat_models import ChatOpenAI\n",
    "from langchain.chains import RetrievalQA\n",
    "from langchain.prompts import PromptTemplate"
   ]
  },
  {
   "cell_type": "code",
   "execution_count": 34,
   "metadata": {},
   "outputs": [],
   "source": [
    "embeddings = OpenAIEmbeddings()\n",
    "# embeddings = embedding_functions.OpenAIEmbeddingFunction(\n",
    "#                 model_name=\"text-embedding-ada-002\"\n",
    "#             )"
   ]
  },
  {
   "cell_type": "code",
   "execution_count": 35,
   "metadata": {},
   "outputs": [],
   "source": [
    "source_chunks = []\n",
    "splitter = CharacterTextSplitter(separator=\" \", chunk_size=2024, chunk_overlap=0)\n",
    "for source in sources:\n",
    "    for chunk in splitter.split_text(source.page_content):\n",
    "        source_chunks.append(Document(page_content=chunk, metadata=source.metadata))"
   ]
  },
  {
   "cell_type": "code",
   "execution_count": 36,
   "metadata": {},
   "outputs": [],
   "source": [
    "import chromadb\n",
    "client = chromadb.PersistentClient(path=\"data\")"
   ]
  },
  {
   "cell_type": "code",
   "execution_count": 37,
   "metadata": {},
   "outputs": [],
   "source": [
    "search_index = Chroma.from_documents(source_chunks, embedding=embeddings, client=client)"
   ]
  },
  {
   "cell_type": "markdown",
   "metadata": {},
   "source": [
    "# Load "
   ]
  },
  {
   "cell_type": "code",
   "execution_count": null,
   "metadata": {},
   "outputs": [],
   "source": [
    "#search_index = Chroma.load_local(\"data\")\n",
    "# load from disk\n",
    "# Note: The following code is demonstrating how to load the Chroma database from disk.\n",
    "#search_index = Chroma(persist_directory=\"data\")"
   ]
  },
  {
   "cell_type": "code",
   "execution_count": 42,
   "metadata": {},
   "outputs": [],
   "source": [
    "#docs = await search_index.asimilarity_search('Description of Nusya')\n",
    "#docs"
   ]
  },
  {
   "cell_type": "code",
   "execution_count": 40,
   "metadata": {},
   "outputs": [],
   "source": [
    "retriever = search_index.as_retriever()"
   ]
  },
  {
   "cell_type": "code",
   "execution_count": 9,
   "metadata": {},
   "outputs": [],
   "source": [
    "#retriever = search_index.as_retriever()"
   ]
  },
  {
   "cell_type": "markdown",
   "metadata": {},
   "source": [
    "# Similarytiy with pages"
   ]
  },
  {
   "cell_type": "code",
   "execution_count": 61,
   "metadata": {},
   "outputs": [
    {
     "name": "stdout",
     "output_type": "stream",
     "text": [
      "71: The fact that she now approaches —in the same gliding walk instilled by Lviv’s most \n",
      "glorious tuteurs (only the legs, my lady, we’re moving only our legs!) beside Nusya, his \n",
      "regular courier, and carries toward him that serene, unattainable smile of hers like a \n",
      "discrete source of light in the November cityscape —is equivalent to the heavens collapsing \n",
      "in pieces onto the earth below —he wouldn’t blink an eye if they did collapse. Snow falls and \n",
      "carries the smell of her hair, the dizzyingly ten\n",
      "325: think we are, these bastards? Do they think they’ll get away with this? I opened my \n",
      "shoulders wide and stood up tall facing a real , worthwhile enemy, one with whom you want  \n",
      "to cross swords —while Lolly, by contrast, remained amazingly composed the whole time, \n",
      "as if she weren’t really surprised to hear my news (I’ve always suspected that she disliked \n",
      "Yulichka). She asked succinct, businesslike questions and generally appeared quite calm —\n",
      "as if all the blows that came this evening fell, for\n",
      "98: suddenly and intensely, of how differently they all behaved, all the time —not because they \n",
      "were not well, but because of her. Because she was there.  \n",
      "It only made it worse that he’d never been one of those who took every chance to revile \n",
      "“the skirted army,” averring that the “wenches” belonged at home and not in the \n",
      "insurgency, but, at the same time, he had to admit feeling, on multiple occasions, that he \n",
      "would rather manage without female assistance, although sometimes it was simply out o\n",
      "376: “Me too,” she blooms, malapropos, not having noticed how much like an idiot I feel. So, \n",
      "that’s why Pavlo Ivanovych took his sweet time shooting the breeze with me —for her sake; \n",
      "he was holding me back for his kid, until her class let out. But she is still too young to \n",
      "appreciate such complexities; she, with the happy enthusiasm of youth, is still filled to the \n",
      "brim with herself exclusively and her urgent need for self -affirmation (little princess, \n",
      "Daddy’s girl, and a late child to boot —Pa\n",
      "383: clamor fades, and here even \n",
      "Russian tourists grow sort of subdued, as birdsong emerges, loud and triumphant, and the \n",
      "babbling, the crystalline babbling of dozens of streams from invisible gutters —you hear it \n",
      "so much more here than outside...  \n",
      "One’s gaze flies up of its own accord, climbing the eastern wall of the cathedral spotted \n",
      "with patches of pink plinthite; Nika pauses for an instant, too, and then starts back on her \n",
      "topic again: the Germans swindled Gubaidulina out of the rights to \n"
     ]
    }
   ],
   "source": [
    "docs = search_index.similarity_search(\"Nusya expreses her emotions\", k=5)\n",
    "for doc in docs:\n",
    "    print(str(doc.metadata[\"page\"]) + \":\", doc.page_content[:500])"
   ]
  },
  {
   "cell_type": "markdown",
   "metadata": {},
   "source": [
    "# Chat with AI about book"
   ]
  },
  {
   "cell_type": "code",
   "execution_count": 59,
   "metadata": {},
   "outputs": [],
   "source": [
    "question = \"How exactly Nusya challenges traditional gender roles? Provide points from the text.\""
   ]
  },
  {
   "cell_type": "code",
   "execution_count": 60,
   "metadata": {},
   "outputs": [
    {
     "data": {
      "text/plain": [
       "'In the novel, Nusya challenges traditional gender roles in several ways. Firstly, she is depicted as a strong and independent woman who actively participates in the resistance movement. Despite being seen as a \"wench\" by some of her male comrades, Nusya proves herself to be a valuable member of the insurgency, serving as Adrian\\'s courier for many years. This challenges the notion that women should only be confined to domestic roles and highlights their capability to contribute to political and military endeavors.\\n\\nAdditionally, Nusya\\'s behavior and mannerisms defy societal expectations of femininity. She is described as having a \"coy, kittenish\" demeanor, which is attributed to her conservative Polish upbringing and her flirtatious nature. However, the novel raises the question of whether Nusya\\'s behavior is a result of her own agency or a product of societal conditioning. Adrian initially dismisses her actions as a consequence of her upbringing and her tendency to flirt, but later wonders if women are capable of sacrificing themselves for an idea that is not tied to a personal relationship. This suggests that Nusya\\'s actions challenge traditional gender roles by questioning the extent to which women can be driven by their own independent ideals.\\n\\nFurthermore, Nusya\\'s emotional vulnerability is also portrayed in the novel, particularly during her parting with Adrian. She displays \"bursts of uncontainable sobbing\" and expresses her deep emotions to him. This challenges the stereotype of women as emotionally stable and submissive, as Nusya\\'s vulnerability and emotional expression are seen as a weakness by Adrian. However, it is important to note that Nusya\\'s emotions are not portrayed as a negative trait, but rather as a reflection of her humanity and her capacity to feel deeply.\\n\\nOverall, Nusya\\'s character challenges traditional gender roles by actively participating in the resistance movement, defying societal expectations of femininity, and expressing her emotions openly. Through her actions and behavior, she disrupts the notion that women are limited to domestic roles and highlights their agency and capacity for independent thought and action.'"
      ]
     },
     "execution_count": 60,
     "metadata": {},
     "output_type": "execute_result"
    }
   ],
   "source": [
    "template = \"\"\"You are a professor expert in postcolonial theory and literary analysis in the context of the Russian-Ukrainian war. \n",
    "I haven't read Zabuzhko's book so I will need you to provide detailed summaries and analyses to help me understand the role of female memory spheres in the novel, \n",
    "especially in relation to the construction of Ukrainian cultural identity. You provide me long, detailed answers supported by specific examples from the text.\n",
    "Please address the following points through both a postcolonial and a feminist lens:\n",
    "- Elaborate on concepts of postcolonial theory and how they apply to Ukrainian cultural identity.\n",
    "- Identify and elaborate on recurring themes, symbols, and narrative techniques in the novel.\n",
    "- Analyze the interactions between the war and Ukrainian cultural identity from a female perspective.\n",
    "Provide open long, detailed answers, with examples from the text.\n",
    "{context}\n",
    "Question: {question}\n",
    "Helpful Answer:\"\"\"\n",
    "QA_CHAIN_PROMPT = PromptTemplate.from_template(template)\n",
    "\n",
    "llm = ChatOpenAI(model_name=\"gpt-3.5-turbo\", temperature=0.5)\n",
    "qa_chain = RetrievalQA.from_chain_type(\n",
    "    llm,\n",
    "    retriever=retriever,\n",
    "    chain_type_kwargs={\"prompt\": QA_CHAIN_PROMPT}\n",
    ")\n",
    "result = qa_chain({\"query\": question})\n",
    "result[\"result\"]"
   ]
  },
  {
   "cell_type": "code",
   "execution_count": 15,
   "metadata": {},
   "outputs": [
    {
     "data": {
      "text/plain": [
       "{'query': 'How are the main characters of the book?',\n",
       " 'result': 'Based on the given context, it is difficult to determine the specific main characters of the book. However, there are several individuals mentioned, such as Adrian, the professor, the captain, and the two girls. Without more information, it is unclear who the main characters are and what their characteristics are.'}"
      ]
     },
     "execution_count": 15,
     "metadata": {},
     "output_type": "execute_result"
    }
   ],
   "source": [
    "from langchain.chains import RetrievalQA\n",
    "from langchain.chat_models import ChatOpenAI\n",
    "\n",
    "llm = ChatOpenAI(model_name=\"gpt-3.5-turbo\", temperature=0)\n",
    "qa_chain = RetrievalQA.from_chain_type(llm, chain_type=\"stuff\", retriever=retriever)\n",
    "qa_chain({\"query\": question})"
   ]
  }
 ],
 "metadata": {
  "kernelspec": {
   "display_name": "deep",
   "language": "python",
   "name": "python3"
  },
  "language_info": {
   "codemirror_mode": {
    "name": "ipython",
    "version": 3
   },
   "file_extension": ".py",
   "mimetype": "text/x-python",
   "name": "python",
   "nbconvert_exporter": "python",
   "pygments_lexer": "ipython3",
   "version": "3.10.8"
  },
  "orig_nbformat": 4
 },
 "nbformat": 4,
 "nbformat_minor": 2
}
