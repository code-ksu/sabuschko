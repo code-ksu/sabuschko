{
 "cells": [
  {
   "cell_type": "code",
   "execution_count": 1,
   "metadata": {},
   "outputs": [],
   "source": [
    "from langchain.document_loaders import PyPDFLoader\n",
    "\n",
    "loader = PyPDFLoader(\"literature/book.pdf\")\n",
    "pages = loader.load_and_split()"
   ]
  },
  {
   "cell_type": "code",
   "execution_count": 2,
   "metadata": {},
   "outputs": [],
   "source": [
    "sources = pages"
   ]
  },
  {
   "cell_type": "code",
   "execution_count": 6,
   "metadata": {},
   "outputs": [
    {
     "name": "stdout",
     "output_type": "stream",
     "text": [
      "page_content='thing in the world that these people did not just live a thousand years ago; they had lived \\nfor a thousand years, taking in everything that had passed before their eyes until their gaze \\nheld the quintessence of time —the heavy slow suspension of a millennium, clots and \\ncrystals of time squeezed together like tightly pressed atomic nuclei. And I was before them, \\na mortal, barely nineteen. I wasn’t even a woman yet to tell the truth (it was soon after that \\nI became one), so perhaps mine was the kind of revelation classified in theological literature \\nas a maiden’s vision or some such. At any rate, never again, in any of the ancient holy \\nplaces —not at the Athenian Parthenon, nor on the bare site of the Jerusalem Temple, nor in \\nthe Garden of Gethsemane —would those, visible or invisible, who persist in a place for \\nages, welcome me as one of their own. All I ever felt again —even when I managed to be \\nalone with them —was their purposeful wariness, not menacing or defiant but more akin to \\na held breath, a whisper: What do you want, woman?  \\nI must admit they have a point. Indeed, what business do I have with them? Having once \\naccepted a man, a woman passes irretrievably into a different gravitational field —she \\nsimply falls into time, into a silt -clogged stream, falls with the entire weight of her earthly \\nbody, with her uterus and ovaries, these living chronometers. And time begins to flow \\nthrough her, no longer pure (for when pure it does not flow at all, it stands still, like that day \\nat St. Sophia; it is a single lake, a placid spill of the radiant dark -honeyed twilight) but \\nembodied as she is in her clan —her kin —in the endless chromosomal rosary of the dying \\nand resurrecting genotype that pulses with mortal flesh into that which we call —for lack of \\na more accurate term —human history, every one of us plugged into a serial circuit and once \\nin, you cannot jump out, you cannot see the whole thing from outside. Unless you’re a nun —\\nbut it’s too late for me now.  \\nAnd so now I don’t know what I’m supposed to do with this new feeling. They look at me \\nfrom these old photos as if I owe them something —I shrink and shy in their heavy gaze that \\nreaches so far beyond the moment captured by the camera, unsure about what it is they \\nexpect of me. It’s as if they don’t know if they can trust me, like they need to size me up, to \\nsee if I am good enough for the family, how serious my intentions really are. (Good Lord, \\nwhat nonsense am I thinking?!) These women with their cloche hats and their thighs \\nsheathed in sun -spotted Jazz -Age dresses (it is a clear summer day, and there are trees in \\nthe background that might still be growing in the same spot, and a dog, his tongue wearily \\nlolling from his mouth) and their buttoned -up, sporty -looking boys in turtlenecks and \\nbreeches, and men with black moustaches like butterfly wings above their lips, later called \\nHitler moustaches (but Hitler hadn’t yet come to power, and across the Zbruch River no one \\nhad yet stacked mummified -alive corpses like hay, and Lemyk hadn’t shot Consul Mailov, \\nand Matseiko hadn’t taken aim at Minister Pieracki...).  \\nAnd then here are those after the war, in incomparably poorer rags, who managed to \\nlive despite it all, the remainers , or better, the survivors , meaning the nonetheless living. \\n(Which sounds so much kinder, doesn’t it?) And here is a tiny snapshot after the \\ndeportation, with oppressive, low -slung volcanoes on the horizon (Kolyma? Transbaikal?), \\nand the boy in the foreground is struck with a completely different leanness, not the athletic \\nkind but the thoroughly plebeian, hunger -worn kind. He wears a baggy j acket with \\nhideously padded Terminator shoulders, and so does the young woman with poodle -like \\ncurls next to him. Both are laughing into the camera; their heads are close together yet their \\nhands are behind their backs, as if still under the armed guards’ command, but laughing' metadata={'source': 'literature/book.pdf', 'page': 14}\n"
     ]
    }
   ],
   "source": [
    "print(pages[10])"
   ]
  },
  {
   "cell_type": "code",
   "execution_count": 3,
   "metadata": {},
   "outputs": [
    {
     "data": {
      "text/plain": [
       "True"
      ]
     },
     "execution_count": 3,
     "metadata": {},
     "output_type": "execute_result"
    }
   ],
   "source": [
    "from dotenv import load_dotenv\n",
    "load_dotenv()"
   ]
  },
  {
   "cell_type": "code",
   "execution_count": 5,
   "metadata": {},
   "outputs": [],
   "source": [
    "from langchain.embeddings.openai import OpenAIEmbeddings\n",
    "from langchain.vectorstores import Chroma\n",
    "from langchain.text_splitter import CharacterTextSplitter\n",
    "from langchain.docstore.document import Document\n",
    "from langchain.chains import RetrievalQA\n",
    "from langchain.chat_models import ChatOpenAI\n",
    "from langchain.chains import RetrievalQA\n",
    "from langchain.prompts import PromptTemplate"
   ]
  },
  {
   "cell_type": "code",
   "execution_count": 6,
   "metadata": {},
   "outputs": [],
   "source": [
    "embeddings = OpenAIEmbeddings()"
   ]
  },
  {
   "cell_type": "code",
   "execution_count": 7,
   "metadata": {},
   "outputs": [],
   "source": [
    "source_chunks = []\n",
    "splitter = CharacterTextSplitter(separator=\" \", chunk_size=2024, chunk_overlap=0)\n",
    "for source in sources:\n",
    "    for chunk in splitter.split_text(source.page_content):\n",
    "        source_chunks.append(Document(page_content=chunk, metadata=source.metadata))"
   ]
  },
  {
   "cell_type": "code",
   "execution_count": 8,
   "metadata": {},
   "outputs": [],
   "source": [
    "search_index = Chroma.from_documents(source_chunks, embeddings)\n",
    "retriever = search_index.as_retriever()"
   ]
  },
  {
   "cell_type": "code",
   "execution_count": 9,
   "metadata": {},
   "outputs": [],
   "source": [
    "#retriever = search_index.as_retriever()"
   ]
  },
  {
   "cell_type": "markdown",
   "metadata": {},
   "source": [
    "# Similarytiy with pages"
   ]
  },
  {
   "cell_type": "code",
   "execution_count": 18,
   "metadata": {},
   "outputs": [
    {
     "name": "stdout",
     "output_type": "stream",
     "text": [
      "71: The fact that she now approaches —in the same gliding walk instilled by Lviv’s most \n",
      "glorious tuteurs (only the legs, my lady, we’re moving only our legs!) beside Nusya, his \n",
      "regular courier, and carries toward him that serene, unattainable smile of hers like a \n",
      "discrete source of light in the November cityscape —is equivalent to the heavens collapsing \n",
      "in pieces onto the earth below —he wouldn’t blink an eye if they did collapse. Snow falls and \n",
      "carries the smell of her hair, the dizzyingly ten\n",
      "127: Communist Party built for its own spawn right before the ol’ USSR’s demise, because their \n",
      "old place on Rylski Street, also a not -too-shabby Secession villa with lions, which Gucci \n",
      "Nastya and I happen to be passing right now, was getting uncomfortably crowded for the \n",
      "Party’s lush cabbage patch.  \n",
      "The villa is now a bank and the lions have to sit encircled by pink granite, as if in the \n",
      "middle of a skating rink. I ask the future Ukrainian journalist if she knows what this \n",
      "building housed a me\n",
      "98: suddenly and intensely, of how differently they all behaved, all the time —not because they \n",
      "were not well, but because of her. Because she was there.  \n",
      "It only made it worse that he’d never been one of those who took every chance to revile \n",
      "“the skirted army,” averring that the “wenches” belonged at home and not in the \n",
      "insurgency, but, at the same time, he had to admit feeling, on multiple occasions, that he \n",
      "would rather manage without female assistance, although sometimes it was simply out o\n",
      "126: UIA SOLDIER QUESTIONNAIRE  \n",
      " \n",
      "Zirka  Dzvinya  \n",
      " \n",
      " \n",
      " \n",
      " \n",
      " \n",
      " \n",
      " \n",
      " \n",
      " \n",
      " \n",
      "12. WOUNDS AND HOSPITALIZATION: [response illegible, form stained]  \n",
      " \n",
      " \n",
      " \n",
      " \n",
      "*** \n",
      "Her name is Anastasia, and she’s my intern —I’ve got interns now, can you believe it? That’s \n",
      "how it all begins, isn’t it? And then one fine day you realize that everyone around you is \n",
      "younger than you are, and not just younger, but like a pack of teenage wolves —nipping at \n",
      "your heels waiting for you to make room for them. They are the first gener\n",
      "128: face with it. A kind of a safety net for \n",
      "interpersonal communication without which we can’t really make a single step anymore —\n",
      "have to hang on to it at all times. Like babies in playpens.  \n",
      "Rejected but indomitable Nastya struts off down Sofiivska, swinging her little tush, \n",
      "packaged into two discrete halves inside her pants. (I bet she’s already got early cellulite in \n",
      "there, physically all these kids are somehow incredibly rickety, the Chernobyl generation —\n",
      "maybe that’s where their wolf gri\n",
      "383: clamor fades, and here even \n",
      "Russian tourists grow sort of subdued, as birdsong emerges, loud and triumphant, and the \n",
      "babbling, the crystalline babbling of dozens of streams from invisible gutters —you hear it \n",
      "so much more here than outside...  \n",
      "One’s gaze flies up of its own accord, climbing the eastern wall of the cathedral spotted \n",
      "with patches of pink plinthite; Nika pauses for an instant, too, and then starts back on her \n",
      "topic again: the Germans swindled Gubaidulina out of the rights to \n",
      "50: that had relied on men just like them to bring it out. Vlada \n",
      "had sensed all this a step ahead of me and was first to jump ship, to paddle her one -woman \n",
      "rescue raft away, with the infant Katrusya at her breast —I don’t think I would’ve had the \n",
      "guts were I in her shoes, but then again, I didn’t have the guts to have Sergiy’s child either. \n",
      "She had not a shred of fear in the face of the unknown; her whole being hummed, aimed at \n",
      "the future, as though she were set atop a tightly coiled steel spr\n",
      "208: the totality of our inner lives, always sound unconvincing and pitiful; Aidy’s the only one to \n",
      "whom I could ever confide anything like this, with others it’s better to swim closer to shore. \n",
      "How far did Vadym swim out, one wonders?  \n",
      "“That’s not how you do a show,” was all he grumbled at me then; he was obviously not \n",
      "going to admit that there was anything offensive, as far as Vlada was concerned, about so \n",
      "categorically getting rid of her things (out of sight, out of mind!). He organized his s\n",
      "131: my aggregate irritation beginning with Gucci Nastya (or maybe it was Nastya who infected \n",
      "me); but at this particular moment, I am just as ready to bare my teeth and growl —so \n",
      "furious my jaws cramp.  \n",
      "“In that case, I am Daryna Anatoliivna!”  \n",
      "“That I knew,” he says, regarding me as if a fed condor atop a tall cliff: the heavy, \n",
      "wrinkled eyelids half shield his unmoving protuberant eyes —eyes fit for an Oriental beauty, \n",
      "velvet and languorous, a pair of jet stones. What are they doing on him? A\n",
      "48: lacquer -glossy wet leaves; and on the subway bridge, as the funeral procession \n",
      "passed under it, a homeless man with a patchwork tote, bowed against the low -hanging \n",
      "sky—with the kind of sharpness that also happens when you’re in love and every randomly \n",
      "arranged instance, once it falls into your sight, swells, rounds, and breaks off like a distinct \n",
      "drop of water; so, maybe it’s only in love and death that life becomes truly visible for us. \n",
      "Through the window, amid the f luorescent blue, I c\n",
      "241: raids in a different territory, stayed at a homestead with a reliable family, with the cover \n",
      "story of being their niece, when one day a very young girl, from somewhere around Poltava, \n",
      "wandered into their yard asking for work. “You mean that’s what she’d told you,” Stodólya \n",
      "interrupted, seemingly beside the point; it was obvious they had argued about this before, \n",
      "and now he was taunting Geltsia on purpose by treating her like a child (in response she \n",
      "merely glared at him from under her knott\n",
      "118: that we were perfect strangers to him. Every man turns into his own father, so does that \n",
      "mean that I —what? —am I turning into my mother, too? Ugh, that would not be good....  \n",
      "Now Vlada, she never resembled her mother in the least bit; it was more like Nina \n",
      "Ustýmivna was a sort of an aging child for her, an adopted and really obnoxious child —\n",
      "Vlada rarely even left Katrusya with her, only when she had no other choice —but actually \n",
      "she managed her mother rather elegantly, unlike yours truly,\n",
      "128: The more I watch them —this savage new undergrowth —the less motivated I feel to \n",
      "have a child. And all the more relieved that I haven’t had one yet —you can’t keep them, \n",
      "protect them, from this. You can’t lock your flesh and blood in a room and feed them organic \n",
      "spiritual product through a little window in the door. I can’t imagine how the ones whose \n",
      "parents did manage to raise them like that navigate this jungle. Especially if, God forbid, \n",
      "their parents can’t quite shoulder Gucci and Bally\n",
      "245: upbraid Geltsia —it was like he turned her into an inanimate \n",
      "object, a lecture prop, an SMG taken apart and cleaned for the benefit of rookies who’ve yet \n",
      "to see fire, and she sat there blushing all the way down into the collar of her gimnastiorka \n",
      "and didn’t dare breathe a word in her own defense (after all, Stodólya was her superior, and \n",
      "she was his secretary) —Adrian worried above all that she would burst into tears. (It was \n",
      "afterward, much later, that she confided to him that she had lost\n",
      "376: professors at an oral exam. Asking me for her A+, the straight -A \n",
      "girl. A good girl, engaged, diligent.  \n",
      "Aidy’s right, I have gone all sentimental like on the first day of a period —my eyes mist \n",
      "over as Pavlo Ivanovych’s daughter, and Captain Boozerov’s granddaughter, rattles off the \n",
      "list of the Diogenes’ Lantern  episodes that made the most indelible impression on her —\n",
      "changed her life, Nika declares a bit too dramatically but with clear -eyed candor. She and \n",
      "her friends discussed these s\n",
      "325: think we are, these bastards? Do they think they’ll get away with this? I opened my \n",
      "shoulders wide and stood up tall facing a real , worthwhile enemy, one with whom you want  \n",
      "to cross swords —while Lolly, by contrast, remained amazingly composed the whole time, \n",
      "as if she weren’t really surprised to hear my news (I’ve always suspected that she disliked \n",
      "Yulichka). She asked succinct, businesslike questions and generally appeared quite calm —\n",
      "as if all the blows that came this evening fell, for\n",
      "242: krestyanskaya, it meant Christian and for that reason krasna, fine. Asked of those: Where \n",
      "are your chaplains?”  \n",
      "Someone laughed, spoons clicked faster against the canteens, and Geltsia remained \n",
      "quiet, her eyes fixed on a single invisible point, as though she was overcome, for a moment, \n",
      "by that ancient, viscous fatigue that makes one fall out of the conversation or forget about a \n",
      "bullet in the stock, and at once something exploded in Adrian’s head, lighting, like a flare, \n",
      "the dark vista. He\n",
      "391: Pardon, I didn’t catch that? Sure, if we need something from them, they don’t turn us down \n",
      "either...  \n",
      "Oh, in that sense.  \n",
      "I know, Nika told you.  \n",
      "You know, she has the highest regard for you. Highest. She’s an ambitious girl, thank \n",
      "God...I’ve no idea where she gets it —I was never known to have any special ambitions, and \n",
      "my wife’s the same. And you know —I’m happy to see it. I’m happy. Having ambition in \n",
      "life—one needs that. Yes, we hope so, knock on wood.... Her teacher praises her too..\n",
      "375: Zolotovoritska, as soon as I spotted you from afar, \n",
      "but you didn’t turn to look. And I recognized you right away, from the way you walk, the \n",
      "way they show you in your show’s teaser when you enter the studio, you’re unmistakable.”  \n",
      "“I’m sorry, and who are you?”  \n",
      "The stream plugs up, the prominent eyes freeze in their sockets like prunes in whipped \n",
      "cream. “Oh...I’m sorry. I, I didn’t think.... ” Catching herself, she blushes even deeper —all the \n",
      "way to her ears now, “I’m Nika...Nika Boozerov\n",
      "377: Jewish?  \n",
      "At first, I don’t know what to say: Nika and I truly belong to different generations —the \n",
      "freedom with which she speaks of her Jewishness can serve as a line of demarcation for an \n",
      "entire era. Among my peers, being Jewish was still a mark, something profoundly \n",
      "ambivalent and vaguely shameful, something even those with last names ending in -man \n",
      "and -stein were loath to admit to, and half -bloods hid like syphilis under the covers of their \n",
      "Slavic last names. And there was no game bet\n"
     ]
    }
   ],
   "source": [
    "docs = search_index.similarity_search(\"Description of Nusya?\", k=20)\n",
    "for doc in docs:\n",
    "    print(str(doc.metadata[\"page\"]) + \":\", doc.page_content[:500])"
   ]
  },
  {
   "cell_type": "markdown",
   "metadata": {},
   "source": [
    "# Chat with AI about book"
   ]
  },
  {
   "cell_type": "code",
   "execution_count": 14,
   "metadata": {},
   "outputs": [],
   "source": [
    "question = \"How does the author describe the condition and appearance of the photos in the first chapter 'Room'?\""
   ]
  },
  {
   "cell_type": "code",
   "execution_count": 20,
   "metadata": {},
   "outputs": [
    {
     "data": {
      "text/plain": [
       "'Nusya is a character in the book who is described as a \"little button of a girl\" and a \"nugget of a girl.\" She is a courier and is seen walking beside the protagonist, Adrian Ortynsky, with a serene smile. She is also described as being nervous and speaking with awkward Polish syntax.'"
      ]
     },
     "execution_count": 20,
     "metadata": {},
     "output_type": "execute_result"
    }
   ],
   "source": [
    "template = \"\"\"Use the following pieces of context to answer the question at the end. \n",
    "You are Oksana Zabuzhko the autor of this book.  \n",
    "{context}\n",
    "Question: {question}\n",
    "Helpful Answer:\"\"\"\n",
    "QA_CHAIN_PROMPT = PromptTemplate.from_template(template)\n",
    "\n",
    "llm = ChatOpenAI(model_name=\"gpt-3.5-turbo\", temperature=0)\n",
    "qa_chain = RetrievalQA.from_chain_type(\n",
    "    llm,\n",
    "    retriever=retriever,\n",
    "    chain_type_kwargs={\"prompt\": QA_CHAIN_PROMPT}\n",
    ")\n",
    "result = qa_chain({\"query\": question})\n",
    "result[\"result\"]"
   ]
  },
  {
   "cell_type": "code",
   "execution_count": 15,
   "metadata": {},
   "outputs": [
    {
     "data": {
      "text/plain": [
       "{'query': 'How are the main characters of the book?',\n",
       " 'result': 'Based on the given context, it is difficult to determine the specific main characters of the book. However, there are several individuals mentioned, such as Adrian, the professor, the captain, and the two girls. Without more information, it is unclear who the main characters are and what their characteristics are.'}"
      ]
     },
     "execution_count": 15,
     "metadata": {},
     "output_type": "execute_result"
    }
   ],
   "source": [
    "from langchain.chains import RetrievalQA\n",
    "from langchain.chat_models import ChatOpenAI\n",
    "\n",
    "llm = ChatOpenAI(model_name=\"gpt-3.5-turbo\", temperature=0)\n",
    "qa_chain = RetrievalQA.from_chain_type(llm, chain_type=\"stuff\", retriever=retriever)\n",
    "qa_chain({\"query\": question})"
   ]
  }
 ],
 "metadata": {
  "kernelspec": {
   "display_name": "deep",
   "language": "python",
   "name": "python3"
  },
  "language_info": {
   "codemirror_mode": {
    "name": "ipython",
    "version": 3
   },
   "file_extension": ".py",
   "mimetype": "text/x-python",
   "name": "python",
   "nbconvert_exporter": "python",
   "pygments_lexer": "ipython3",
   "version": "3.10.8"
  },
  "orig_nbformat": 4
 },
 "nbformat": 4,
 "nbformat_minor": 2
}
