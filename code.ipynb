{
 "cells": [
  {
   "cell_type": "code",
   "execution_count": 1,
   "metadata": {},
   "outputs": [],
   "source": [
    "from langchain.document_loaders import PyPDFLoader\n",
    "\n",
    "loader = PyPDFLoader(\"literature/book.pdf\")\n",
    "pages = loader.load_and_split()"
   ]
  },
  {
   "cell_type": "code",
   "execution_count": 6,
   "metadata": {},
   "outputs": [
    {
     "name": "stdout",
     "output_type": "stream",
     "text": [
      "page_content='thing in the world that these people did not just live a thousand years ago; they had lived \\nfor a thousand years, taking in everything that had passed before their eyes until their gaze \\nheld the quintessence of time —the heavy slow suspension of a millennium, clots and \\ncrystals of time squeezed together like tightly pressed atomic nuclei. And I was before them, \\na mortal, barely nineteen. I wasn’t even a woman yet to tell the truth (it was soon after that \\nI became one), so perhaps mine was the kind of revelation classified in theological literature \\nas a maiden’s vision or some such. At any rate, never again, in any of the ancient holy \\nplaces —not at the Athenian Parthenon, nor on the bare site of the Jerusalem Temple, nor in \\nthe Garden of Gethsemane —would those, visible or invisible, who persist in a place for \\nages, welcome me as one of their own. All I ever felt again —even when I managed to be \\nalone with them —was their purposeful wariness, not menacing or defiant but more akin to \\na held breath, a whisper: What do you want, woman?  \\nI must admit they have a point. Indeed, what business do I have with them? Having once \\naccepted a man, a woman passes irretrievably into a different gravitational field —she \\nsimply falls into time, into a silt -clogged stream, falls with the entire weight of her earthly \\nbody, with her uterus and ovaries, these living chronometers. And time begins to flow \\nthrough her, no longer pure (for when pure it does not flow at all, it stands still, like that day \\nat St. Sophia; it is a single lake, a placid spill of the radiant dark -honeyed twilight) but \\nembodied as she is in her clan —her kin —in the endless chromosomal rosary of the dying \\nand resurrecting genotype that pulses with mortal flesh into that which we call —for lack of \\na more accurate term —human history, every one of us plugged into a serial circuit and once \\nin, you cannot jump out, you cannot see the whole thing from outside. Unless you’re a nun —\\nbut it’s too late for me now.  \\nAnd so now I don’t know what I’m supposed to do with this new feeling. They look at me \\nfrom these old photos as if I owe them something —I shrink and shy in their heavy gaze that \\nreaches so far beyond the moment captured by the camera, unsure about what it is they \\nexpect of me. It’s as if they don’t know if they can trust me, like they need to size me up, to \\nsee if I am good enough for the family, how serious my intentions really are. (Good Lord, \\nwhat nonsense am I thinking?!) These women with their cloche hats and their thighs \\nsheathed in sun -spotted Jazz -Age dresses (it is a clear summer day, and there are trees in \\nthe background that might still be growing in the same spot, and a dog, his tongue wearily \\nlolling from his mouth) and their buttoned -up, sporty -looking boys in turtlenecks and \\nbreeches, and men with black moustaches like butterfly wings above their lips, later called \\nHitler moustaches (but Hitler hadn’t yet come to power, and across the Zbruch River no one \\nhad yet stacked mummified -alive corpses like hay, and Lemyk hadn’t shot Consul Mailov, \\nand Matseiko hadn’t taken aim at Minister Pieracki...).  \\nAnd then here are those after the war, in incomparably poorer rags, who managed to \\nlive despite it all, the remainers , or better, the survivors , meaning the nonetheless living. \\n(Which sounds so much kinder, doesn’t it?) And here is a tiny snapshot after the \\ndeportation, with oppressive, low -slung volcanoes on the horizon (Kolyma? Transbaikal?), \\nand the boy in the foreground is struck with a completely different leanness, not the athletic \\nkind but the thoroughly plebeian, hunger -worn kind. He wears a baggy j acket with \\nhideously padded Terminator shoulders, and so does the young woman with poodle -like \\ncurls next to him. Both are laughing into the camera; their heads are close together yet their \\nhands are behind their backs, as if still under the armed guards’ command, but laughing' metadata={'source': 'literature/book.pdf', 'page': 14}\n"
     ]
    }
   ],
   "source": [
    "print(pages[10])"
   ]
  },
  {
   "cell_type": "code",
   "execution_count": 2,
   "metadata": {},
   "outputs": [
    {
     "data": {
      "text/plain": [
       "True"
      ]
     },
     "execution_count": 2,
     "metadata": {},
     "output_type": "execute_result"
    }
   ],
   "source": [
    "from dotenv import load_dotenv\n",
    "load_dotenv()"
   ]
  },
  {
   "cell_type": "code",
   "execution_count": 13,
   "metadata": {},
   "outputs": [],
   "source": [
    "from langchain.vectorstores import FAISS\n",
    "from langchain.embeddings.openai import OpenAIEmbeddings"
   ]
  },
  {
   "cell_type": "code",
   "execution_count": 14,
   "metadata": {},
   "outputs": [],
   "source": [
    "faiss_index = FAISS.from_documents(pages, OpenAIEmbeddings())"
   ]
  },
  {
   "cell_type": "code",
   "execution_count": 15,
   "metadata": {},
   "outputs": [
    {
     "name": "stdout",
     "output_type": "stream",
     "text": [
      "247: cruelty, and everything that happened between a man and a woman in private could very \n",
      "well occur between them —all this had plainly failed to reach Adrian’s awareness, as though \n",
      "he had an impenetrable shutter closed on that part of his mind.  \n",
      "In the photograph he saw it—as clearly as if it were r\n",
      "367: “This is she.”  \n",
      "“Hm,” Pavlo Ivanovych said, studying the four men and the woman in the UIA uniform \n",
      "with a professional eye, “this is a good picture.” That was not a judgment he made about the \n",
      "aesthetic properties of the photo, its angles or composition —he was assessing its \n",
      "usefulness for operat\n"
     ]
    }
   ],
   "source": [
    "docs = faiss_index.similarity_search(\"How does the author describe the condition and appearance of the photos?\", k=2)\n",
    "for doc in docs:\n",
    "    print(str(doc.metadata[\"page\"]) + \":\", doc.page_content[:300])"
   ]
  },
  {
   "cell_type": "code",
   "execution_count": null,
   "metadata": {},
   "outputs": [],
   "source": [
    "from langchain.chains import RetrievalQA\n",
    "from langchain.chat_models import ChatOpenAI"
   ]
  },
  {
   "cell_type": "code",
   "execution_count": 17,
   "metadata": {},
   "outputs": [],
   "source": [
    "question = \"How does the author describe the condition and appearance of the photos in the first chapter 'Room'?\""
   ]
  },
  {
   "cell_type": "code",
   "execution_count": 19,
   "metadata": {},
   "outputs": [],
   "source": [
    "from langchain.chat_models import ChatOpenAI"
   ]
  },
  {
   "cell_type": "code",
   "execution_count": 20,
   "metadata": {},
   "outputs": [
    {
     "ename": "AttributeError",
     "evalue": "'list' object has no attribute 'as_retriever'",
     "output_type": "error",
     "traceback": [
      "\u001b[1;31m---------------------------------------------------------------------------\u001b[0m",
      "\u001b[1;31mAttributeError\u001b[0m                            Traceback (most recent call last)",
      "\u001b[1;32mc:\\Users\\kseni\\Documents\\Code\\sabuschko\\code.ipynb Cell 11\u001b[0m in \u001b[0;36m1\n\u001b[0;32m      <a href='vscode-notebook-cell:/c%3A/Users/kseni/Documents/Code/sabuschko/code.ipynb#X14sZmlsZQ%3D%3D?line=8'>9</a>\u001b[0m QA_CHAIN_PROMPT \u001b[39m=\u001b[39m PromptTemplate\u001b[39m.\u001b[39mfrom_template(template)\n\u001b[0;32m     <a href='vscode-notebook-cell:/c%3A/Users/kseni/Documents/Code/sabuschko/code.ipynb#X14sZmlsZQ%3D%3D?line=10'>11</a>\u001b[0m llm \u001b[39m=\u001b[39m ChatOpenAI(model_name\u001b[39m=\u001b[39m\u001b[39m\"\u001b[39m\u001b[39mgpt-3.5-turbo\u001b[39m\u001b[39m\"\u001b[39m, temperature\u001b[39m=\u001b[39m\u001b[39m0\u001b[39m)\n\u001b[0;32m     <a href='vscode-notebook-cell:/c%3A/Users/kseni/Documents/Code/sabuschko/code.ipynb#X14sZmlsZQ%3D%3D?line=11'>12</a>\u001b[0m qa_chain \u001b[39m=\u001b[39m RetrievalQA\u001b[39m.\u001b[39mfrom_chain_type(\n\u001b[0;32m     <a href='vscode-notebook-cell:/c%3A/Users/kseni/Documents/Code/sabuschko/code.ipynb#X14sZmlsZQ%3D%3D?line=12'>13</a>\u001b[0m     llm,\n\u001b[1;32m---> <a href='vscode-notebook-cell:/c%3A/Users/kseni/Documents/Code/sabuschko/code.ipynb#X14sZmlsZQ%3D%3D?line=13'>14</a>\u001b[0m     retriever\u001b[39m=\u001b[39mdocs\u001b[39m.\u001b[39;49mas_retriever(),\n\u001b[0;32m     <a href='vscode-notebook-cell:/c%3A/Users/kseni/Documents/Code/sabuschko/code.ipynb#X14sZmlsZQ%3D%3D?line=14'>15</a>\u001b[0m     chain_type_kwargs\u001b[39m=\u001b[39m{\u001b[39m\"\u001b[39m\u001b[39mprompt\u001b[39m\u001b[39m\"\u001b[39m: QA_CHAIN_PROMPT}\n\u001b[0;32m     <a href='vscode-notebook-cell:/c%3A/Users/kseni/Documents/Code/sabuschko/code.ipynb#X14sZmlsZQ%3D%3D?line=15'>16</a>\u001b[0m )\n\u001b[0;32m     <a href='vscode-notebook-cell:/c%3A/Users/kseni/Documents/Code/sabuschko/code.ipynb#X14sZmlsZQ%3D%3D?line=16'>17</a>\u001b[0m result \u001b[39m=\u001b[39m qa_chain({\u001b[39m\"\u001b[39m\u001b[39mquery\u001b[39m\u001b[39m\"\u001b[39m: question})\n\u001b[0;32m     <a href='vscode-notebook-cell:/c%3A/Users/kseni/Documents/Code/sabuschko/code.ipynb#X14sZmlsZQ%3D%3D?line=17'>18</a>\u001b[0m result[\u001b[39m\"\u001b[39m\u001b[39mresult\u001b[39m\u001b[39m\"\u001b[39m]\n",
      "\u001b[1;31mAttributeError\u001b[0m: 'list' object has no attribute 'as_retriever'"
     ]
    }
   ],
   "source": [
    "from langchain.chains import RetrievalQA\n",
    "from langchain.prompts import PromptTemplate\n",
    "\n",
    "template = \"\"\"Use the following pieces of context to answer the question at the end. \n",
    "You are Oksana Zabuzhko the autor of this book.  \n",
    "{context}\n",
    "Question: {question}\n",
    "Helpful Answer:\"\"\"\n",
    "QA_CHAIN_PROMPT = PromptTemplate.from_template(template)\n",
    "\n",
    "llm = ChatOpenAI(model_name=\"gpt-3.5-turbo\", temperature=0)\n",
    "qa_chain = RetrievalQA.from_chain_type(\n",
    "    llm,\n",
    "    retriever=docs.as_retriever(),\n",
    "    chain_type_kwargs={\"prompt\": QA_CHAIN_PROMPT}\n",
    ")\n",
    "result = qa_chain({\"query\": question})\n",
    "result[\"result\"]"
   ]
  },
  {
   "cell_type": "code",
   "execution_count": 16,
   "metadata": {},
   "outputs": [],
   "source": [
    "question = \"How does the author describe the condition and appearance of the photos in the first chapter 'Room'?\""
   ]
  },
  {
   "cell_type": "code",
   "execution_count": null,
   "metadata": {},
   "outputs": [],
   "source": [
    "from langchain.llms import OpenAI\n",
    "from langchain.chains import RetrievalQA\n",
    "from langchain.faiss import FAISS\n",
    "from langchain.vectorstores.base import VectorStoreRetriever\n",
    "retriever = VectorStoreRetriever(vectorstore=FAISS(...))\n",
    "retrievalQA = RetrievalQA.from_llm(llm=OpenAI(), retriever=retriever)"
   ]
  },
  {
   "cell_type": "code",
   "execution_count": 21,
   "metadata": {},
   "outputs": [
    {
     "ename": "AttributeError",
     "evalue": "'list' object has no attribute 'as_retriever'",
     "output_type": "error",
     "traceback": [
      "\u001b[1;31m---------------------------------------------------------------------------\u001b[0m",
      "\u001b[1;31mAttributeError\u001b[0m                            Traceback (most recent call last)",
      "\u001b[1;32mc:\\Users\\kseni\\Documents\\Code\\sabuschko\\code.ipynb Cell 13\u001b[0m in \u001b[0;36m5\n\u001b[0;32m      <a href='vscode-notebook-cell:/c%3A/Users/kseni/Documents/Code/sabuschko/code.ipynb#X12sZmlsZQ%3D%3D?line=1'>2</a>\u001b[0m \u001b[39mfrom\u001b[39;00m \u001b[39mlangchain\u001b[39;00m\u001b[39m.\u001b[39;00m\u001b[39mchat_models\u001b[39;00m \u001b[39mimport\u001b[39;00m ChatOpenAI\n\u001b[0;32m      <a href='vscode-notebook-cell:/c%3A/Users/kseni/Documents/Code/sabuschko/code.ipynb#X12sZmlsZQ%3D%3D?line=3'>4</a>\u001b[0m llm \u001b[39m=\u001b[39m ChatOpenAI(model_name\u001b[39m=\u001b[39m\u001b[39m\"\u001b[39m\u001b[39mgpt-3.5-turbo\u001b[39m\u001b[39m\"\u001b[39m, temperature\u001b[39m=\u001b[39m\u001b[39m0\u001b[39m)\n\u001b[1;32m----> <a href='vscode-notebook-cell:/c%3A/Users/kseni/Documents/Code/sabuschko/code.ipynb#X12sZmlsZQ%3D%3D?line=4'>5</a>\u001b[0m qa_chain \u001b[39m=\u001b[39m RetrievalQA\u001b[39m.\u001b[39mfrom_chain_type(llm,retriever\u001b[39m=\u001b[39mdocs\u001b[39m.\u001b[39;49mas_retriever())\n\u001b[0;32m      <a href='vscode-notebook-cell:/c%3A/Users/kseni/Documents/Code/sabuschko/code.ipynb#X12sZmlsZQ%3D%3D?line=5'>6</a>\u001b[0m qa_chain({\u001b[39m\"\u001b[39m\u001b[39mquery\u001b[39m\u001b[39m\"\u001b[39m: question})\n",
      "\u001b[1;31mAttributeError\u001b[0m: 'list' object has no attribute 'as_retriever'"
     ]
    }
   ],
   "source": [
    "from langchain.chains import RetrievalQA\n",
    "from langchain.chat_models import ChatOpenAI\n",
    "\n",
    "llm = ChatOpenAI(model_name=\"gpt-3.5-turbo\", temperature=0)\n",
    "qa_chain = RetrievalQA.from_chain_type(llm, retriever=docs.as_retriever())\n",
    "qa_chain({\"query\": question})"
   ]
  }
 ],
 "metadata": {
  "kernelspec": {
   "display_name": "deep",
   "language": "python",
   "name": "python3"
  },
  "language_info": {
   "codemirror_mode": {
    "name": "ipython",
    "version": 3
   },
   "file_extension": ".py",
   "mimetype": "text/x-python",
   "name": "python",
   "nbconvert_exporter": "python",
   "pygments_lexer": "ipython3",
   "version": "3.10.8"
  },
  "orig_nbformat": 4
 },
 "nbformat": 4,
 "nbformat_minor": 2
}
