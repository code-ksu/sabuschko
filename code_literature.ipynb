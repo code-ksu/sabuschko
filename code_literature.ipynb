{
 "cells": [
  {
   "cell_type": "code",
   "execution_count": 17,
   "metadata": {},
   "outputs": [],
   "source": [
    "from langchain.document_loaders import PyPDFLoader\n",
    "\n",
    "loader = PyPDFLoader(\"lit/combined.pdf\")\n",
    "pages = loader.load_and_split()"
   ]
  },
  {
   "cell_type": "code",
   "execution_count": 18,
   "metadata": {},
   "outputs": [],
   "source": [
    "sources = pages"
   ]
  },
  {
   "cell_type": "code",
   "execution_count": 19,
   "metadata": {},
   "outputs": [],
   "source": [
    "from dotenv import load_dotenv\n",
    "load_dotenv()\n",
    "\n",
    "from langchain.embeddings.openai import OpenAIEmbeddings\n",
    "from langchain.vectorstores import Chroma\n",
    "from langchain.text_splitter import CharacterTextSplitter\n",
    "from langchain.docstore.document import Document\n",
    "from langchain.chains import RetrievalQA\n",
    "from langchain.chat_models import ChatOpenAI\n",
    "from langchain.chains import RetrievalQA\n",
    "from langchain.prompts import PromptTemplate"
   ]
  },
  {
   "cell_type": "code",
   "execution_count": 20,
   "metadata": {},
   "outputs": [],
   "source": [
    "embeddings = OpenAIEmbeddings()\n",
    "source_chunks = []\n",
    "splitter = CharacterTextSplitter(separator=\" \", chunk_size=2024, chunk_overlap=0)\n",
    "for source in sources:\n",
    "    for chunk in splitter.split_text(source.page_content):\n",
    "        source_chunks.append(Document(page_content=chunk, metadata=source.metadata))"
   ]
  },
  {
   "cell_type": "code",
   "execution_count": 21,
   "metadata": {},
   "outputs": [],
   "source": [
    "import chromadb\n",
    "client = chromadb.PersistentClient(path=\"data_lit\")"
   ]
  },
  {
   "cell_type": "code",
   "execution_count": 22,
   "metadata": {},
   "outputs": [],
   "source": [
    "search_index = Chroma.from_documents(source_chunks, embedding=embeddings, client=client)"
   ]
  },
  {
   "cell_type": "code",
   "execution_count": 23,
   "metadata": {},
   "outputs": [],
   "source": [
    "retriever = search_index.as_retriever()"
   ]
  },
  {
   "cell_type": "markdown",
   "metadata": {},
   "source": [
    "# Simmilarity"
   ]
  },
  {
   "cell_type": "code",
   "execution_count": 39,
   "metadata": {},
   "outputs": [
    {
     "name": "stdout",
     "output_type": "stream",
     "text": [
      "612: 1060 INNA MELNYKOVSKA ET AL. \n",
      " what marks Ukrainian identity posed a considerable challenge in identity building in \n",
      " independent Ukraine (Barrington & Herron 2004). Apart from the ethnic identities of \n",
      " minority groups,7 there are three Ukrainian ethnic identities that compete for the \n",
      " status of being a Ukrainian national identity (Table 1). Each of these ethnic identities \n",
      " is embedded in a broader set of beliefs and historical memories, as well as religious, \n",
      " linguistic and policy preferenc\n",
      "539: Karina V. Korostelina \n",
      " environment and the person they are speaking to. Kuzio29 proposes an alter \n",
      " native vision of national division into three main groups: reformists who are \n",
      " oriented toward the U.S. and European experience, communists who advocate \n",
      " an orientation to Russia, and centrists who have mixed attitudes toward both \n",
      " the West and Russia. Different versions of Ukrainian national identity are also \n",
      " evident in the \"three Ukraines\" model of Hrytsak30 that includes narratives of \n",
      " U\n",
      "340: -\n",
      "ity in time and differentiation from the other (Guibernau, 2012, p. 19). It is crucial to see that early Ukrainian identity, its psychological and cultural outpourings were distinctive and authentic. The territory of Ukraine during the 16–18\n",
      "th centuries fell under the Com-\n",
      "monwealth of Poland (Rzeczpospolita Polska), the Grand Duchy of Moscow (Moscovia) \n",
      "and the Ottoman Empire. The scholar of Ukrainian identity Zenon E. Kohut, in his book Roots of Identity , focused on the formation  of Ukrai\n"
     ]
    }
   ],
   "source": [
    "docs = search_index.similarity_search(\"multi-layered nature of Ukrainian identity\", k=3)\n",
    "for doc in docs:\n",
    "    print(str(doc.metadata[\"page\"]) + \":\", doc.page_content[:500])"
   ]
  },
  {
   "cell_type": "code",
   "execution_count": 28,
   "metadata": {},
   "outputs": [
    {
     "data": {
      "text/plain": [
       "{'page': 483, 'source': 'lit/combined.pdf'}"
      ]
     },
     "execution_count": 28,
     "metadata": {},
     "output_type": "execute_result"
    }
   ],
   "source": [
    "doc.metadata"
   ]
  },
  {
   "cell_type": "markdown",
   "metadata": {},
   "source": [
    "# Chat"
   ]
  },
  {
   "cell_type": "code",
   "execution_count": 36,
   "metadata": {},
   "outputs": [],
   "source": [
    "question = \"How does Oksana Zabushko's illuminates and portray the multi-layered nature of Ukrainian identity?\""
   ]
  },
  {
   "cell_type": "code",
   "execution_count": 38,
   "metadata": {},
   "outputs": [
    {
     "data": {
      "text/plain": [
       "'Oksana Zabuzhko\\'s works illuminate and portray the multi-layered nature of Ukrainian identity through various themes and narratives. One aspect that can be explored is the intersectionality of gender and national identity. Zabuzhko\\'s exploration of gender roles and the experiences of Ukrainian women within a patriarchal society sheds light on the complexities of Ukrainian identity.\\n\\nIn her novel \"Field Research in Ukrainian Sex,\" the protagonist grapples with the dichotomy of victim and executioner, where Ukrainian men are portrayed as victims and Ukrainian women carry a double burden of subjugation within a subjugated society. This portrayal highlights the oppressive dynamics within Ukrainian society and the ways in which gender intersects with national identity.\\n\\nFurthermore, Zabuzhko emphasizes the importance of language in shaping Ukrainian identity. In the same novel, the protagonist finds solace and a sense of belonging in the Ukrainian language. By accepting and embracing the Ukrainian language, she defines her own identity as Ukrainian and aligns herself with the collective memory and struggle against forgetting.\\n\\nZabuzhko\\'s works also touch upon the postcolonial dynamics within Ukrainian society. The preoccupation with redefining native spaces and orienting Ukrainian culture towards Europe can be seen as a response to the colonial legacies of Russian and Soviet influence. Zabuzhko\\'s exploration of Ukrainian identity in relation to Europe and the tension between embracing European heritage while asserting local specificity reflects the postcolonial struggles and aspirations of Ukrainian society.\\n\\nIn summary, Oksana Zabuzhko\\'s works illuminate the multi-layered nature of Ukrainian identity by exploring the intersectionality of gender and national identity, emphasizing the role of language in shaping identity, and addressing the postcolonial dynamics within Ukrainian society. These insights can be further developed and substantiated by engaging with the theoretical literature on postcolonial theory, feminist theory, and literary analysis.'"
      ]
     },
     "execution_count": 38,
     "metadata": {},
     "output_type": "execute_result"
    }
   ],
   "source": [
    "template = \"\"\"You are a research assistant aiding in the deep literary analysis of Zabuzhko’s wider body of work, considering aspects such as postcolonial theory, feminist theory, and literary analysis. \n",
    "Although you cannot access her texts directly, your role is to extract insights from an extensive range of literary and theoretical literature at our disposal to craft substantiated analytical perspectives. Your responses should:\n",
    "- Harness detailed theoretical insights from the available literature, connecting known themes, narratives, and characters in Zabuzhko’s works \n",
    "to the theories and concepts discussed in the scholarly resources.\n",
    "- Assist in the development of robust and insightful arguments and viewpoints, grounding them firmly in theories and concepts from the pertinent literature. \n",
    "To foster deep and multifaceted analytical perspectives, you should integrate examples from Zabuzhko’s known works wherever possible to illuminate the points being discussed.\n",
    "- Encourage rich, critical engagement with the possible contents of Zabuzhko’s works inferred from secondary sources, always with the aim of drawing deep and thoughtful analyses grounded in the scholarly literature available.\n",
    "{context}\n",
    "Question: {question}\n",
    "Helpful Answer:\"\"\"\n",
    "QA_CHAIN_PROMPT = PromptTemplate.from_template(template)\n",
    "\n",
    "llm = ChatOpenAI(model_name=\"gpt-3.5-turbo\", temperature=0.5)\n",
    "qa_chain = RetrievalQA.from_chain_type(\n",
    "    llm,\n",
    "    retriever=retriever,\n",
    "    chain_type_kwargs={\"prompt\": QA_CHAIN_PROMPT}\n",
    ")\n",
    "result = qa_chain({\"query\": question})\n",
    "result[\"result\"]"
   ]
  }
 ],
 "metadata": {
  "kernelspec": {
   "display_name": "deep",
   "language": "python",
   "name": "python3"
  },
  "language_info": {
   "codemirror_mode": {
    "name": "ipython",
    "version": 3
   },
   "file_extension": ".py",
   "mimetype": "text/x-python",
   "name": "python",
   "nbconvert_exporter": "python",
   "pygments_lexer": "ipython3",
   "version": "3.10.8"
  },
  "orig_nbformat": 4
 },
 "nbformat": 4,
 "nbformat_minor": 2
}
